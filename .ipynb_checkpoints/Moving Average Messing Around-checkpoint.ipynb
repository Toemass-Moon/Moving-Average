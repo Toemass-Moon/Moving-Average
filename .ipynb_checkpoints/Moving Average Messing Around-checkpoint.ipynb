{
 "cells": [
  {
   "cell_type": "markdown",
   "id": "1fa658b1",
   "metadata": {},
   "source": [
    "## Source for the Moving Average Strategy found [HERE](https://www.investopedia.com/articles/active-trading/052014/how-use-moving-average-buy-stocks.asp)  \n",
    "Inspiration for this project comes from a youtube channel called [Coding with Russ](https://www.youtube.com/channel/UCPrRY0S-VzekrJK7I7F4-Mg/playlists)"
   ]
  },
  {
   "cell_type": "code",
   "execution_count": 1,
   "id": "85b9850f",
   "metadata": {},
   "outputs": [],
   "source": [
    "import matplotlib.pyplot as plt\n",
    "import pandas_datareader as pdr\n",
    "from datetime import datetime\n",
    "import pandas as pd\n",
    "import numpy as np\n",
    "\n",
    "# just so we don't have to deal with scientific notation\n",
    "pd.set_option('display.float_format', lambda x: '%.5f' % x)"
   ]
  },
  {
   "cell_type": "code",
   "execution_count": 2,
   "id": "3ae02975",
   "metadata": {},
   "outputs": [],
   "source": [
    "# defining period (how many days RA) and starting imaginary balance\n",
    "period = 200\n",
    "start_balance = 10_000"
   ]
  },
  {
   "cell_type": "code",
   "execution_count": 3,
   "id": "0fca4633",
   "metadata": {},
   "outputs": [
    {
     "name": "stdout",
     "output_type": "stream",
     "text": [
      "This will track if you were to trade using the moving average principle for 10 years\n"
     ]
    }
   ],
   "source": [
    "# defining date range\n",
    "start_date = datetime(2005, 1, 1)\n",
    "end_date = datetime(2015, 1, 1)\n",
    "years = (end_date - start_date).days / 365.25 # .25 to account for leap years\n",
    "\n",
    "print(f'This will track if you were to trade using the moving average principle for {round(years)} years')"
   ]
  },
  {
   "cell_type": "code",
   "execution_count": 4,
   "id": "5bd9770e",
   "metadata": {
    "scrolled": true
   },
   "outputs": [
    {
     "name": "stdout",
     "output_type": "stream",
     "text": [
      "High         float64\n",
      "Low          float64\n",
      "Open         float64\n",
      "Close        float64\n",
      "Volume         int64\n",
      "Adj Close    float64\n",
      "dtype: object\n"
     ]
    },
    {
     "data": {
      "text/html": [
       "<div>\n",
       "<style scoped>\n",
       "    .dataframe tbody tr th:only-of-type {\n",
       "        vertical-align: middle;\n",
       "    }\n",
       "\n",
       "    .dataframe tbody tr th {\n",
       "        vertical-align: top;\n",
       "    }\n",
       "\n",
       "    .dataframe thead th {\n",
       "        text-align: right;\n",
       "    }\n",
       "</style>\n",
       "<table border=\"1\" class=\"dataframe\">\n",
       "  <thead>\n",
       "    <tr style=\"text-align: right;\">\n",
       "      <th></th>\n",
       "      <th>High</th>\n",
       "      <th>Low</th>\n",
       "      <th>Open</th>\n",
       "      <th>Close</th>\n",
       "      <th>Volume</th>\n",
       "      <th>Adj Close</th>\n",
       "    </tr>\n",
       "    <tr>\n",
       "      <th>Date</th>\n",
       "      <th></th>\n",
       "      <th></th>\n",
       "      <th></th>\n",
       "      <th></th>\n",
       "      <th></th>\n",
       "      <th></th>\n",
       "    </tr>\n",
       "  </thead>\n",
       "  <tbody>\n",
       "    <tr>\n",
       "      <th>2005-01-03</th>\n",
       "      <td>1217.80005</td>\n",
       "      <td>1200.31995</td>\n",
       "      <td>1211.92004</td>\n",
       "      <td>1202.07996</td>\n",
       "      <td>1510800000</td>\n",
       "      <td>1202.07996</td>\n",
       "    </tr>\n",
       "    <tr>\n",
       "      <th>2005-01-04</th>\n",
       "      <td>1205.83997</td>\n",
       "      <td>1185.39001</td>\n",
       "      <td>1202.07996</td>\n",
       "      <td>1188.05005</td>\n",
       "      <td>1721000000</td>\n",
       "      <td>1188.05005</td>\n",
       "    </tr>\n",
       "    <tr>\n",
       "      <th>2005-01-05</th>\n",
       "      <td>1192.72998</td>\n",
       "      <td>1183.71997</td>\n",
       "      <td>1188.05005</td>\n",
       "      <td>1183.73999</td>\n",
       "      <td>1738900000</td>\n",
       "      <td>1183.73999</td>\n",
       "    </tr>\n",
       "    <tr>\n",
       "      <th>2005-01-06</th>\n",
       "      <td>1191.63000</td>\n",
       "      <td>1183.27002</td>\n",
       "      <td>1183.73999</td>\n",
       "      <td>1187.89001</td>\n",
       "      <td>1569100000</td>\n",
       "      <td>1187.89001</td>\n",
       "    </tr>\n",
       "    <tr>\n",
       "      <th>2005-01-07</th>\n",
       "      <td>1192.19995</td>\n",
       "      <td>1182.16003</td>\n",
       "      <td>1187.89001</td>\n",
       "      <td>1186.18994</td>\n",
       "      <td>1477900000</td>\n",
       "      <td>1186.18994</td>\n",
       "    </tr>\n",
       "  </tbody>\n",
       "</table>\n",
       "</div>"
      ],
      "text/plain": [
       "                 High        Low       Open      Close      Volume  Adj Close\n",
       "Date                                                                         \n",
       "2005-01-03 1217.80005 1200.31995 1211.92004 1202.07996  1510800000 1202.07996\n",
       "2005-01-04 1205.83997 1185.39001 1202.07996 1188.05005  1721000000 1188.05005\n",
       "2005-01-05 1192.72998 1183.71997 1188.05005 1183.73999  1738900000 1183.73999\n",
       "2005-01-06 1191.63000 1183.27002 1183.73999 1187.89001  1569100000 1187.89001\n",
       "2005-01-07 1192.19995 1182.16003 1187.89001 1186.18994  1477900000 1186.18994"
      ]
     },
     "execution_count": 4,
     "metadata": {},
     "output_type": "execute_result"
    }
   ],
   "source": [
    "stock = pdr.get_data_yahoo('^GSPC', start_date, end_date)\n",
    "print(stock.dtypes)\n",
    "stock.head()"
   ]
  },
  {
   "cell_type": "markdown",
   "id": "05aa02f6",
   "metadata": {},
   "source": [
    "### For the moving average strategy, we just need the open and close, so let's drop everything else"
   ]
  },
  {
   "cell_type": "code",
   "execution_count": 5,
   "id": "d718845a",
   "metadata": {
    "scrolled": true
   },
   "outputs": [
    {
     "data": {
      "text/html": [
       "<div>\n",
       "<style scoped>\n",
       "    .dataframe tbody tr th:only-of-type {\n",
       "        vertical-align: middle;\n",
       "    }\n",
       "\n",
       "    .dataframe tbody tr th {\n",
       "        vertical-align: top;\n",
       "    }\n",
       "\n",
       "    .dataframe thead th {\n",
       "        text-align: right;\n",
       "    }\n",
       "</style>\n",
       "<table border=\"1\" class=\"dataframe\">\n",
       "  <thead>\n",
       "    <tr style=\"text-align: right;\">\n",
       "      <th></th>\n",
       "      <th>Open</th>\n",
       "      <th>Close</th>\n",
       "    </tr>\n",
       "    <tr>\n",
       "      <th>Date</th>\n",
       "      <th></th>\n",
       "      <th></th>\n",
       "    </tr>\n",
       "  </thead>\n",
       "  <tbody>\n",
       "    <tr>\n",
       "      <th>2005-01-03</th>\n",
       "      <td>1211.92004</td>\n",
       "      <td>1202.07996</td>\n",
       "    </tr>\n",
       "    <tr>\n",
       "      <th>2005-01-04</th>\n",
       "      <td>1202.07996</td>\n",
       "      <td>1188.05005</td>\n",
       "    </tr>\n",
       "    <tr>\n",
       "      <th>2005-01-05</th>\n",
       "      <td>1188.05005</td>\n",
       "      <td>1183.73999</td>\n",
       "    </tr>\n",
       "    <tr>\n",
       "      <th>2005-01-06</th>\n",
       "      <td>1183.73999</td>\n",
       "      <td>1187.89001</td>\n",
       "    </tr>\n",
       "    <tr>\n",
       "      <th>2005-01-07</th>\n",
       "      <td>1187.89001</td>\n",
       "      <td>1186.18994</td>\n",
       "    </tr>\n",
       "  </tbody>\n",
       "</table>\n",
       "</div>"
      ],
      "text/plain": [
       "                 Open      Close\n",
       "Date                            \n",
       "2005-01-03 1211.92004 1202.07996\n",
       "2005-01-04 1202.07996 1188.05005\n",
       "2005-01-05 1188.05005 1183.73999\n",
       "2005-01-06 1183.73999 1187.89001\n",
       "2005-01-07 1187.89001 1186.18994"
      ]
     },
     "execution_count": 5,
     "metadata": {},
     "output_type": "execute_result"
    }
   ],
   "source": [
    "stock.drop(['High', 'Low', 'Volume', 'Adj Close'], axis = 1, inplace = True)\n",
    "stock.head()"
   ]
  },
  {
   "cell_type": "markdown",
   "id": "e07b974a",
   "metadata": {},
   "source": [
    "### Let's plot this to make sure it looks like the actual S&P 500 Chart\n",
    "it should ideally look something like this image taken directly from the [yahoo finance](https://finance.yahoo.com/chart/%5EGSPC#eyJpbnRlcnZhbCI6Im1vbnRoIiwicGVyaW9kaWNpdHkiOjEsImNhbmRsZVdpZHRoIjo3LjkwMTk2MDc4NDMxMzcyNiwiZmxpcHBlZCI6ZmFsc2UsInZvbHVtZVVuZGVybGF5Ijp0cnVlLCJhZGoiOnRydWUsImNyb3NzaGFpciI6dHJ1ZSwiY2hhcnRUeXBlIjoibGluZSIsImV4dGVuZGVkIjpmYWxzZSwibWFya2V0U2Vzc2lvbnMiOnt9LCJhZ2dyZWdhdGlvblR5cGUiOiJvaGxjIiwiY2hhcnRTY2FsZSI6ImxpbmVhciIsInBhbmVscyI6eyJjaGFydCI6eyJwZXJjZW50IjoxLCJkaXNwbGF5IjoiXkdTUEMiLCJjaGFydE5hbWUiOiJjaGFydCIsImluZGV4IjowLCJ5QXhpcyI6eyJuYW1lIjoiY2hhcnQiLCJwb3NpdGlvbiI6bnVsbH0sInlheGlzTEhTIjpbXSwieWF4aXNSSFMiOlsiY2hhcnQiLCLigIx2b2wgdW5kcuKAjCJdfX0sImxpbmVXaWR0aCI6Miwic3RyaXBlZEJhY2tncm91bmQiOnRydWUsImV2ZW50cyI6dHJ1ZSwiY29sb3IiOiIjMDA4MWYyIiwic3RyaXBlZEJhY2tncm91ZCI6dHJ1ZSwicmFuZ2UiOnsiZHRMZWZ0IjoiMjAwNS0wMS0wM1QwODowMDowMC4wMDBaIiwiZHRSaWdodCI6IjIwMjEtMTItMDJUMDc6NTk6MDAuMDAwWiIsInBlcmlvZGljaXR5Ijp7ImludGVydmFsIjoibW9udGgiLCJwZXJpb2QiOjF9LCJwYWRkaW5nIjowfSwiZXZlbnRNYXAiOnsiY29ycG9yYXRlIjp7ImRpdnMiOnRydWUsInNwbGl0cyI6dHJ1ZX0sInNpZ0RldiI6e319LCJjdXN0b21SYW5nZSI6eyJzdGFydCI6MTEwNDczOTIwMDAwMCwiZW5kIjoxNjM1NzUwMDAwMDAwfSwic3ltYm9scyI6W3sic3ltYm9sIjoiXkdTUEMiLCJzeW1ib2xPYmplY3QiOnsic3ltYm9sIjoiXkdTUEMiLCJxdW90ZVR5cGUiOiJJTkRFWCIsImV4Y2hhbmdlVGltZVpvbmUiOiJBbWVyaWNhL05ld19Zb3JrIn0sInBlcmlvZGljaXR5IjoxLCJpbnRlcnZhbCI6Im1vbnRoIn1dLCJzdHVkaWVzIjp7IuKAjHZvbCB1bmRy4oCMIjp7InR5cGUiOiJ2b2wgdW5kciIsImlucHV0cyI6eyJpZCI6IuKAjHZvbCB1bmRy4oCMIiwiZGlzcGxheSI6IuKAjHZvbCB1bmRy4oCMIn0sIm91dHB1dHMiOnsiVXAgVm9sdW1lIjoiIzAwYjA2MSIsIkRvd24gVm9sdW1lIjoiI2ZmMzMzYSJ9LCJwYW5lbCI6ImNoYXJ0IiwicGFyYW1ldGVycyI6eyJ3aWR0aEZhY3RvciI6MC40NSwiY2hhcnROYW1lIjoiY2hhcnQiLCJwYW5lbE5hbWUiOiJjaGFydCJ9fX19) \n",
    "<img src = 'imgs/S&P-10-year.png' width = 700>"
   ]
  },
  {
   "cell_type": "code",
   "execution_count": 6,
   "id": "48feb627",
   "metadata": {},
   "outputs": [
    {
     "data": {
      "text/plain": [
       "[<matplotlib.lines.Line2D at 0x132d9be4700>]"
      ]
     },
     "execution_count": 6,
     "metadata": {},
     "output_type": "execute_result"
    },
    {
     "data": {
      "image/png": "[encoded data removed]",
      "text/plain": [
       "<Figure size 864x432 with 1 Axes>"
      ]
     },
     "metadata": {
      "needs_background": "light"
     },
     "output_type": "display_data"
    }
   ],
   "source": [
    "plt.figure(figsize=(12, 6))\n",
    "plt.plot(stock.index ,stock['Close'])"
   ]
  },
  {
   "cell_type": "markdown",
   "id": "bc531be0",
   "metadata": {},
   "source": [
    "> Looks pretty close, some parts are a bit more exagerated, but it might just be the scaling"
   ]
  },
  {
   "cell_type": "markdown",
   "id": "87de8a15",
   "metadata": {},
   "source": [
    "### First thing to do is calculating the daily return %"
   ]
  },
  {
   "cell_type": "code",
   "execution_count": 7,
   "id": "28ccbcd2",
   "metadata": {
    "scrolled": false
   },
   "outputs": [
    {
     "data": {
      "text/html": [
       "<div>\n",
       "<style scoped>\n",
       "    .dataframe tbody tr th:only-of-type {\n",
       "        vertical-align: middle;\n",
       "    }\n",
       "\n",
       "    .dataframe tbody tr th {\n",
       "        vertical-align: top;\n",
       "    }\n",
       "\n",
       "    .dataframe thead th {\n",
       "        text-align: right;\n",
       "    }\n",
       "</style>\n",
       "<table border=\"1\" class=\"dataframe\">\n",
       "  <thead>\n",
       "    <tr style=\"text-align: right;\">\n",
       "      <th></th>\n",
       "      <th>Open</th>\n",
       "      <th>Close</th>\n",
       "      <th>Return</th>\n",
       "    </tr>\n",
       "    <tr>\n",
       "      <th>Date</th>\n",
       "      <th></th>\n",
       "      <th></th>\n",
       "      <th></th>\n",
       "    </tr>\n",
       "  </thead>\n",
       "  <tbody>\n",
       "    <tr>\n",
       "      <th>2005-01-03</th>\n",
       "      <td>1211.92004</td>\n",
       "      <td>1202.07996</td>\n",
       "      <td>NaN</td>\n",
       "    </tr>\n",
       "    <tr>\n",
       "      <th>2005-01-04</th>\n",
       "      <td>1202.07996</td>\n",
       "      <td>1188.05005</td>\n",
       "      <td>0.98833</td>\n",
       "    </tr>\n",
       "    <tr>\n",
       "      <th>2005-01-05</th>\n",
       "      <td>1188.05005</td>\n",
       "      <td>1183.73999</td>\n",
       "      <td>0.99637</td>\n",
       "    </tr>\n",
       "    <tr>\n",
       "      <th>2005-01-06</th>\n",
       "      <td>1183.73999</td>\n",
       "      <td>1187.89001</td>\n",
       "      <td>1.00351</td>\n",
       "    </tr>\n",
       "    <tr>\n",
       "      <th>2005-01-07</th>\n",
       "      <td>1187.89001</td>\n",
       "      <td>1186.18994</td>\n",
       "      <td>0.99857</td>\n",
       "    </tr>\n",
       "  </tbody>\n",
       "</table>\n",
       "</div>"
      ],
      "text/plain": [
       "                 Open      Close  Return\n",
       "Date                                    \n",
       "2005-01-03 1211.92004 1202.07996     NaN\n",
       "2005-01-04 1202.07996 1188.05005 0.98833\n",
       "2005-01-05 1188.05005 1183.73999 0.99637\n",
       "2005-01-06 1183.73999 1187.89001 1.00351\n",
       "2005-01-07 1187.89001 1186.18994 0.99857"
      ]
     },
     "execution_count": 7,
     "metadata": {},
     "output_type": "execute_result"
    }
   ],
   "source": [
    "stock['Return'] = stock['Close'] / stock['Close'].shift(1)\n",
    "stock.head()"
   ]
  },
  {
   "cell_type": "markdown",
   "id": "f6a92126",
   "metadata": {},
   "source": [
    "> so if `Return` > 1, then it means that it had a positive return for that day, if `Return` < 1 then it had a negative"
   ]
  },
  {
   "cell_type": "markdown",
   "id": "a1d4b807",
   "metadata": {},
   "source": [
    "### Before getting onto the Moving Average Strategy, lets get the `baseline` first \n",
    "> We will see if you had just put in the starting ammount (no trading in between) what we would have ended up with."
   ]
  },
  {
   "cell_type": "code",
   "execution_count": 8,
   "id": "a7306ad8",
   "metadata": {
    "scrolled": false
   },
   "outputs": [
    {
     "data": {
      "text/html": [
       "<div>\n",
       "<style scoped>\n",
       "    .dataframe tbody tr th:only-of-type {\n",
       "        vertical-align: middle;\n",
       "    }\n",
       "\n",
       "    .dataframe tbody tr th {\n",
       "        vertical-align: top;\n",
       "    }\n",
       "\n",
       "    .dataframe thead th {\n",
       "        text-align: right;\n",
       "    }\n",
       "</style>\n",
       "<table border=\"1\" class=\"dataframe\">\n",
       "  <thead>\n",
       "    <tr style=\"text-align: right;\">\n",
       "      <th></th>\n",
       "      <th>Open</th>\n",
       "      <th>Close</th>\n",
       "      <th>Return</th>\n",
       "      <th>Baseline</th>\n",
       "    </tr>\n",
       "    <tr>\n",
       "      <th>Date</th>\n",
       "      <th></th>\n",
       "      <th></th>\n",
       "      <th></th>\n",
       "      <th></th>\n",
       "    </tr>\n",
       "  </thead>\n",
       "  <tbody>\n",
       "    <tr>\n",
       "      <th>2005-01-04</th>\n",
       "      <td>1202.07996</td>\n",
       "      <td>1188.05005</td>\n",
       "      <td>0.98833</td>\n",
       "      <td>9883.28641</td>\n",
       "    </tr>\n",
       "    <tr>\n",
       "      <th>2005-01-05</th>\n",
       "      <td>1188.05005</td>\n",
       "      <td>1183.73999</td>\n",
       "      <td>0.99637</td>\n",
       "      <td>9847.43140</td>\n",
       "    </tr>\n",
       "    <tr>\n",
       "      <th>2005-01-06</th>\n",
       "      <td>1183.73999</td>\n",
       "      <td>1187.89001</td>\n",
       "      <td>1.00351</td>\n",
       "      <td>9881.95510</td>\n",
       "    </tr>\n",
       "    <tr>\n",
       "      <th>2005-01-07</th>\n",
       "      <td>1187.89001</td>\n",
       "      <td>1186.18994</td>\n",
       "      <td>0.99857</td>\n",
       "      <td>9867.81233</td>\n",
       "    </tr>\n",
       "    <tr>\n",
       "      <th>2005-01-10</th>\n",
       "      <td>1186.18994</td>\n",
       "      <td>1190.25000</td>\n",
       "      <td>1.00342</td>\n",
       "      <td>9901.58761</td>\n",
       "    </tr>\n",
       "  </tbody>\n",
       "</table>\n",
       "</div>"
      ],
      "text/plain": [
       "                 Open      Close  Return   Baseline\n",
       "Date                                               \n",
       "2005-01-04 1202.07996 1188.05005 0.98833 9883.28641\n",
       "2005-01-05 1188.05005 1183.73999 0.99637 9847.43140\n",
       "2005-01-06 1183.73999 1187.89001 1.00351 9881.95510\n",
       "2005-01-07 1187.89001 1186.18994 0.99857 9867.81233\n",
       "2005-01-10 1186.18994 1190.25000 1.00342 9901.58761"
      ]
     },
     "execution_count": 8,
     "metadata": {},
     "output_type": "execute_result"
    }
   ],
   "source": [
    "stock['Baseline'] = stock['Return'].cumprod() * start_balance\n",
    "stock.dropna(inplace=True)\n",
    "stock.head()"
   ]
  },
  {
   "cell_type": "markdown",
   "id": "0d0969a7",
   "metadata": {},
   "source": [
    "### Seeing how off our baseline is compared to what it should be"
   ]
  },
  {
   "cell_type": "code",
   "execution_count": 9,
   "id": "1ab98e01",
   "metadata": {
    "scrolled": false
   },
   "outputs": [
    {
     "name": "stdout",
     "output_type": "stream",
     "text": [
      "Original Change: 1.713\n",
      "Baseline Change: 1.733\n"
     ]
    }
   ],
   "source": [
    "print('Original Change:',round(stock['Close'][-1]/ stock['Open'][0], 3))\n",
    "print('Baseline Change:',round(stock['Baseline'][-1] / stock['Baseline'][0],3))"
   ]
  },
  {
   "cell_type": "markdown",
   "id": "daf71414",
   "metadata": {},
   "source": [
    "> They both seem to have gone up by 373% and is only off by .1%, so this is pretty close and we can attribute the .1% to rounding error"
   ]
  },
  {
   "cell_type": "markdown",
   "id": "5977368c",
   "metadata": {},
   "source": [
    "### Calculating the Drawdown (the biggest drop from highest to lowest price)"
   ]
  },
  {
   "cell_type": "code",
   "execution_count": 10,
   "id": "7fcbbd3c",
   "metadata": {},
   "outputs": [
    {
     "data": {
      "text/html": [
       "<div>\n",
       "<style scoped>\n",
       "    .dataframe tbody tr th:only-of-type {\n",
       "        vertical-align: middle;\n",
       "    }\n",
       "\n",
       "    .dataframe tbody tr th {\n",
       "        vertical-align: top;\n",
       "    }\n",
       "\n",
       "    .dataframe thead th {\n",
       "        text-align: right;\n",
       "    }\n",
       "</style>\n",
       "<table border=\"1\" class=\"dataframe\">\n",
       "  <thead>\n",
       "    <tr style=\"text-align: right;\">\n",
       "      <th></th>\n",
       "      <th>Open</th>\n",
       "      <th>Close</th>\n",
       "      <th>Return</th>\n",
       "      <th>Baseline</th>\n",
       "      <th>Base_Peak</th>\n",
       "      <th>Base_DD</th>\n",
       "    </tr>\n",
       "    <tr>\n",
       "      <th>Date</th>\n",
       "      <th></th>\n",
       "      <th></th>\n",
       "      <th></th>\n",
       "      <th></th>\n",
       "      <th></th>\n",
       "      <th></th>\n",
       "    </tr>\n",
       "  </thead>\n",
       "  <tbody>\n",
       "    <tr>\n",
       "      <th>2005-01-04</th>\n",
       "      <td>1202.07996</td>\n",
       "      <td>1188.05005</td>\n",
       "      <td>0.98833</td>\n",
       "      <td>9883.28641</td>\n",
       "      <td>9883.28641</td>\n",
       "      <td>0.00000</td>\n",
       "    </tr>\n",
       "    <tr>\n",
       "      <th>2005-01-05</th>\n",
       "      <td>1188.05005</td>\n",
       "      <td>1183.73999</td>\n",
       "      <td>0.99637</td>\n",
       "      <td>9847.43140</td>\n",
       "      <td>9883.28641</td>\n",
       "      <td>-35.85501</td>\n",
       "    </tr>\n",
       "    <tr>\n",
       "      <th>2005-01-06</th>\n",
       "      <td>1183.73999</td>\n",
       "      <td>1187.89001</td>\n",
       "      <td>1.00351</td>\n",
       "      <td>9881.95510</td>\n",
       "      <td>9883.28641</td>\n",
       "      <td>-1.33131</td>\n",
       "    </tr>\n",
       "    <tr>\n",
       "      <th>2005-01-07</th>\n",
       "      <td>1187.89001</td>\n",
       "      <td>1186.18994</td>\n",
       "      <td>0.99857</td>\n",
       "      <td>9867.81233</td>\n",
       "      <td>9883.28641</td>\n",
       "      <td>-15.47407</td>\n",
       "    </tr>\n",
       "    <tr>\n",
       "      <th>2005-01-10</th>\n",
       "      <td>1186.18994</td>\n",
       "      <td>1190.25000</td>\n",
       "      <td>1.00342</td>\n",
       "      <td>9901.58761</td>\n",
       "      <td>9901.58761</td>\n",
       "      <td>0.00000</td>\n",
       "    </tr>\n",
       "  </tbody>\n",
       "</table>\n",
       "</div>"
      ],
      "text/plain": [
       "                 Open      Close  Return   Baseline  Base_Peak   Base_DD\n",
       "Date                                                                    \n",
       "2005-01-04 1202.07996 1188.05005 0.98833 9883.28641 9883.28641   0.00000\n",
       "2005-01-05 1188.05005 1183.73999 0.99637 9847.43140 9883.28641 -35.85501\n",
       "2005-01-06 1183.73999 1187.89001 1.00351 9881.95510 9883.28641  -1.33131\n",
       "2005-01-07 1187.89001 1186.18994 0.99857 9867.81233 9883.28641 -15.47407\n",
       "2005-01-10 1186.18994 1190.25000 1.00342 9901.58761 9901.58761   0.00000"
      ]
     },
     "execution_count": 10,
     "metadata": {},
     "output_type": "execute_result"
    }
   ],
   "source": [
    "stock['Base_Peak'] = stock['Baseline'].cummax()\n",
    "stock['Base_DD'] = stock['Baseline'] - stock['Base_Peak']\n",
    "stock.head()"
   ]
  },
  {
   "cell_type": "markdown",
   "id": "70be7c8c",
   "metadata": {},
   "source": [
    "### Calculating Metrics Now"
   ]
  },
  {
   "cell_type": "code",
   "execution_count": 11,
   "id": "1d4f6fef",
   "metadata": {},
   "outputs": [
    {
     "name": "stdout",
     "output_type": "stream",
     "text": [
      "Return Metric: 73.301\n",
      "Compound Annual Growth Rate 5.653\n",
      "Biggest Drawdown was: -56.775 percent\n"
     ]
    }
   ],
   "source": [
    "return_metric = round((stock['Baseline'][-1] / stock['Baseline'][0] - 1) * 100,3)\n",
    "cagr_metric = round((((stock['Baseline'][-1] / stock['Baseline'][0]) ** (1/years)) - 1) * 100, 3)\n",
    "dd_metric = round(((stock['Base_DD'] / stock['Base_Peak']).min() * 100), 3)\n",
    "\n",
    "print('Return Metric:', return_metric)\n",
    "print('Compound Annual Growth Rate', cagr_metric)\n",
    "print(f'Biggest Drawdown was: {dd_metric} percent')"
   ]
  },
  {
   "cell_type": "markdown",
   "id": "eff95e12",
   "metadata": {},
   "source": [
    "> The drawdown of 56.78% is from the 2008 market crash."
   ]
  },
  {
   "cell_type": "markdown",
   "id": "e87db7a0",
   "metadata": {},
   "source": [
    "### Adding in the Simple Moving Average (over 30 days as specified above, but can be changed)"
   ]
  },
  {
   "cell_type": "code",
   "execution_count": 12,
   "id": "f32ec26a",
   "metadata": {},
   "outputs": [
    {
     "data": {
      "text/html": [
       "<div>\n",
       "<style scoped>\n",
       "    .dataframe tbody tr th:only-of-type {\n",
       "        vertical-align: middle;\n",
       "    }\n",
       "\n",
       "    .dataframe tbody tr th {\n",
       "        vertical-align: top;\n",
       "    }\n",
       "\n",
       "    .dataframe thead th {\n",
       "        text-align: right;\n",
       "    }\n",
       "</style>\n",
       "<table border=\"1\" class=\"dataframe\">\n",
       "  <thead>\n",
       "    <tr style=\"text-align: right;\">\n",
       "      <th></th>\n",
       "      <th>Open</th>\n",
       "      <th>Close</th>\n",
       "      <th>Return</th>\n",
       "      <th>Baseline</th>\n",
       "      <th>Base_Peak</th>\n",
       "      <th>Base_DD</th>\n",
       "      <th>SMA</th>\n",
       "    </tr>\n",
       "    <tr>\n",
       "      <th>Date</th>\n",
       "      <th></th>\n",
       "      <th></th>\n",
       "      <th></th>\n",
       "      <th></th>\n",
       "      <th></th>\n",
       "      <th></th>\n",
       "      <th></th>\n",
       "    </tr>\n",
       "  </thead>\n",
       "  <tbody>\n",
       "    <tr>\n",
       "      <th>2014-12-24</th>\n",
       "      <td>2083.25000</td>\n",
       "      <td>2081.87988</td>\n",
       "      <td>0.99986</td>\n",
       "      <td>17318.98009</td>\n",
       "      <td>17321.39290</td>\n",
       "      <td>-2.41281</td>\n",
       "      <td>1953.16760</td>\n",
       "    </tr>\n",
       "    <tr>\n",
       "      <th>2014-12-26</th>\n",
       "      <td>2084.30005</td>\n",
       "      <td>2088.77002</td>\n",
       "      <td>1.00331</td>\n",
       "      <td>17376.29855</td>\n",
       "      <td>17376.29855</td>\n",
       "      <td>0.00000</td>\n",
       "      <td>1954.37975</td>\n",
       "    </tr>\n",
       "    <tr>\n",
       "      <th>2014-12-29</th>\n",
       "      <td>2087.62988</td>\n",
       "      <td>2090.57007</td>\n",
       "      <td>1.00086</td>\n",
       "      <td>17391.27300</td>\n",
       "      <td>17391.27300</td>\n",
       "      <td>0.00000</td>\n",
       "      <td>1955.62695</td>\n",
       "    </tr>\n",
       "    <tr>\n",
       "      <th>2014-12-30</th>\n",
       "      <td>2088.48999</td>\n",
       "      <td>2080.35010</td>\n",
       "      <td>0.99511</td>\n",
       "      <td>17306.25394</td>\n",
       "      <td>17391.27300</td>\n",
       "      <td>-85.01906</td>\n",
       "      <td>1956.73455</td>\n",
       "    </tr>\n",
       "    <tr>\n",
       "      <th>2014-12-31</th>\n",
       "      <td>2082.11011</td>\n",
       "      <td>2058.89990</td>\n",
       "      <td>0.98969</td>\n",
       "      <td>17127.81161</td>\n",
       "      <td>17391.27300</td>\n",
       "      <td>-263.46139</td>\n",
       "      <td>1957.66780</td>\n",
       "    </tr>\n",
       "  </tbody>\n",
       "</table>\n",
       "</div>"
      ],
      "text/plain": [
       "                 Open      Close  Return    Baseline   Base_Peak    Base_DD  \\\n",
       "Date                                                                          \n",
       "2014-12-24 2083.25000 2081.87988 0.99986 17318.98009 17321.39290   -2.41281   \n",
       "2014-12-26 2084.30005 2088.77002 1.00331 17376.29855 17376.29855    0.00000   \n",
       "2014-12-29 2087.62988 2090.57007 1.00086 17391.27300 17391.27300    0.00000   \n",
       "2014-12-30 2088.48999 2080.35010 0.99511 17306.25394 17391.27300  -85.01906   \n",
       "2014-12-31 2082.11011 2058.89990 0.98969 17127.81161 17391.27300 -263.46139   \n",
       "\n",
       "                  SMA  \n",
       "Date                   \n",
       "2014-12-24 1953.16760  \n",
       "2014-12-26 1954.37975  \n",
       "2014-12-29 1955.62695  \n",
       "2014-12-30 1956.73455  \n",
       "2014-12-31 1957.66780  "
      ]
     },
     "execution_count": 12,
     "metadata": {},
     "output_type": "execute_result"
    }
   ],
   "source": [
    "stock['SMA'] = stock['Close'].rolling(window=period).mean()\n",
    "stock.tail()"
   ]
  },
  {
   "cell_type": "markdown",
   "id": "b527a5b0",
   "metadata": {},
   "source": [
    "### Getting the Visual now"
   ]
  },
  {
   "cell_type": "code",
   "execution_count": 13,
   "id": "19271cb8",
   "metadata": {},
   "outputs": [
    {
     "data": {
      "image/png": "[encoded data removed]",
      "text/plain": [
       "<Figure size 864x432 with 1 Axes>"
      ]
     },
     "metadata": {
      "needs_background": "light"
     },
     "output_type": "display_data"
    }
   ],
   "source": [
    "plt.figure(figsize=(12,6))\n",
    "plt.plot(stock['Close'], 'blue', linewidth = 2, label = 'Base')\n",
    "plt.plot(stock['SMA'], 'orange', linewidth = 2, label = 'SMA')\n",
    "plt.legend()\n",
    "plt.show()"
   ]
  },
  {
   "cell_type": "markdown",
   "id": "3b0ba130",
   "metadata": {},
   "source": [
    "## Now we will actually start geting into implementing the Moving Average Strategy\n",
    "**Basic Rules**\n",
    "1. When the price crosses **below** the SMA, we **sell**\n",
    "2. When the price crosses **above** the SMA, we **buy**"
   ]
  },
  {
   "cell_type": "markdown",
   "id": "f88f06da",
   "metadata": {},
   "source": [
    "### Creating markers to let us know when to buy or sell"
   ]
  },
  {
   "cell_type": "code",
   "execution_count": 14,
   "id": "7e70e67f",
   "metadata": {},
   "outputs": [
    {
     "data": {
      "text/html": [
       "<div>\n",
       "<style scoped>\n",
       "    .dataframe tbody tr th:only-of-type {\n",
       "        vertical-align: middle;\n",
       "    }\n",
       "\n",
       "    .dataframe tbody tr th {\n",
       "        vertical-align: top;\n",
       "    }\n",
       "\n",
       "    .dataframe thead th {\n",
       "        text-align: right;\n",
       "    }\n",
       "</style>\n",
       "<table border=\"1\" class=\"dataframe\">\n",
       "  <thead>\n",
       "    <tr style=\"text-align: right;\">\n",
       "      <th></th>\n",
       "      <th>Open</th>\n",
       "      <th>Close</th>\n",
       "      <th>Return</th>\n",
       "      <th>Baseline</th>\n",
       "      <th>Base_Peak</th>\n",
       "      <th>Base_DD</th>\n",
       "      <th>SMA</th>\n",
       "      <th>Buy</th>\n",
       "    </tr>\n",
       "    <tr>\n",
       "      <th>Date</th>\n",
       "      <th></th>\n",
       "      <th></th>\n",
       "      <th></th>\n",
       "      <th></th>\n",
       "      <th></th>\n",
       "      <th></th>\n",
       "      <th></th>\n",
       "      <th></th>\n",
       "    </tr>\n",
       "  </thead>\n",
       "  <tbody>\n",
       "    <tr>\n",
       "      <th>2005-02-17</th>\n",
       "      <td>1210.33997</td>\n",
       "      <td>1200.75000</td>\n",
       "      <td>0.99208</td>\n",
       "      <td>9988.93621</td>\n",
       "      <td>10068.71431</td>\n",
       "      <td>-79.77810</td>\n",
       "      <td>NaN</td>\n",
       "      <td>0</td>\n",
       "    </tr>\n",
       "    <tr>\n",
       "      <th>2005-02-18</th>\n",
       "      <td>1200.75000</td>\n",
       "      <td>1201.58997</td>\n",
       "      <td>1.00070</td>\n",
       "      <td>9995.92381</td>\n",
       "      <td>10068.71431</td>\n",
       "      <td>-72.79050</td>\n",
       "      <td>NaN</td>\n",
       "      <td>0</td>\n",
       "    </tr>\n",
       "    <tr>\n",
       "      <th>2005-02-22</th>\n",
       "      <td>1201.58997</td>\n",
       "      <td>1184.16003</td>\n",
       "      <td>0.98549</td>\n",
       "      <td>9850.92571</td>\n",
       "      <td>10068.71431</td>\n",
       "      <td>-217.78860</td>\n",
       "      <td>NaN</td>\n",
       "      <td>0</td>\n",
       "    </tr>\n",
       "    <tr>\n",
       "      <th>2005-02-23</th>\n",
       "      <td>1184.16003</td>\n",
       "      <td>1190.80005</td>\n",
       "      <td>1.00561</td>\n",
       "      <td>9906.16342</td>\n",
       "      <td>10068.71431</td>\n",
       "      <td>-162.55089</td>\n",
       "      <td>NaN</td>\n",
       "      <td>0</td>\n",
       "    </tr>\n",
       "    <tr>\n",
       "      <th>2005-02-24</th>\n",
       "      <td>1190.80005</td>\n",
       "      <td>1200.19995</td>\n",
       "      <td>1.00789</td>\n",
       "      <td>9984.36040</td>\n",
       "      <td>10068.71431</td>\n",
       "      <td>-84.35391</td>\n",
       "      <td>NaN</td>\n",
       "      <td>0</td>\n",
       "    </tr>\n",
       "    <tr>\n",
       "      <th>2005-02-25</th>\n",
       "      <td>1200.19995</td>\n",
       "      <td>1211.37000</td>\n",
       "      <td>1.00931</td>\n",
       "      <td>10077.28304</td>\n",
       "      <td>10077.28304</td>\n",
       "      <td>0.00000</td>\n",
       "      <td>NaN</td>\n",
       "      <td>0</td>\n",
       "    </tr>\n",
       "    <tr>\n",
       "      <th>2005-02-28</th>\n",
       "      <td>1211.37000</td>\n",
       "      <td>1203.59998</td>\n",
       "      <td>0.99359</td>\n",
       "      <td>10012.64491</td>\n",
       "      <td>10077.28304</td>\n",
       "      <td>-64.63813</td>\n",
       "      <td>NaN</td>\n",
       "      <td>0</td>\n",
       "    </tr>\n",
       "    <tr>\n",
       "      <th>2005-03-01</th>\n",
       "      <td>1203.59998</td>\n",
       "      <td>1210.41003</td>\n",
       "      <td>1.00566</td>\n",
       "      <td>10069.29721</td>\n",
       "      <td>10077.28304</td>\n",
       "      <td>-7.98583</td>\n",
       "      <td>NaN</td>\n",
       "      <td>0</td>\n",
       "    </tr>\n",
       "    <tr>\n",
       "      <th>2005-03-02</th>\n",
       "      <td>1210.41003</td>\n",
       "      <td>1210.07996</td>\n",
       "      <td>0.99973</td>\n",
       "      <td>10066.55131</td>\n",
       "      <td>10077.28304</td>\n",
       "      <td>-10.73172</td>\n",
       "      <td>NaN</td>\n",
       "      <td>0</td>\n",
       "    </tr>\n",
       "    <tr>\n",
       "      <th>2005-03-03</th>\n",
       "      <td>1210.07996</td>\n",
       "      <td>1210.46997</td>\n",
       "      <td>1.00032</td>\n",
       "      <td>10069.79581</td>\n",
       "      <td>10077.28304</td>\n",
       "      <td>-7.48723</td>\n",
       "      <td>NaN</td>\n",
       "      <td>0</td>\n",
       "    </tr>\n",
       "  </tbody>\n",
       "</table>\n",
       "</div>"
      ],
      "text/plain": [
       "                 Open      Close  Return    Baseline   Base_Peak    Base_DD  \\\n",
       "Date                                                                          \n",
       "2005-02-17 1210.33997 1200.75000 0.99208  9988.93621 10068.71431  -79.77810   \n",
       "2005-02-18 1200.75000 1201.58997 1.00070  9995.92381 10068.71431  -72.79050   \n",
       "2005-02-22 1201.58997 1184.16003 0.98549  9850.92571 10068.71431 -217.78860   \n",
       "2005-02-23 1184.16003 1190.80005 1.00561  9906.16342 10068.71431 -162.55089   \n",
       "2005-02-24 1190.80005 1200.19995 1.00789  9984.36040 10068.71431  -84.35391   \n",
       "2005-02-25 1200.19995 1211.37000 1.00931 10077.28304 10077.28304    0.00000   \n",
       "2005-02-28 1211.37000 1203.59998 0.99359 10012.64491 10077.28304  -64.63813   \n",
       "2005-03-01 1203.59998 1210.41003 1.00566 10069.29721 10077.28304   -7.98583   \n",
       "2005-03-02 1210.41003 1210.07996 0.99973 10066.55131 10077.28304  -10.73172   \n",
       "2005-03-03 1210.07996 1210.46997 1.00032 10069.79581 10077.28304   -7.48723   \n",
       "\n",
       "            SMA  Buy  \n",
       "Date                  \n",
       "2005-02-17  NaN    0  \n",
       "2005-02-18  NaN    0  \n",
       "2005-02-22  NaN    0  \n",
       "2005-02-23  NaN    0  \n",
       "2005-02-24  NaN    0  \n",
       "2005-02-25  NaN    0  \n",
       "2005-02-28  NaN    0  \n",
       "2005-03-01  NaN    0  \n",
       "2005-03-02  NaN    0  \n",
       "2005-03-03  NaN    0  "
      ]
     },
     "execution_count": 14,
     "metadata": {},
     "output_type": "execute_result"
    }
   ],
   "source": [
    "stock['Buy'] = (stock['Close'] > stock['SMA']) * 1\n",
    "\n",
    "stock.iloc[31:41] "
   ]
  },
  {
   "cell_type": "markdown",
   "id": "14b749aa",
   "metadata": {},
   "source": [
    "### Creating a new Return system where if we don't have share, the return will just be 1 (amount we had before)"
   ]
  },
  {
   "cell_type": "code",
   "execution_count": 15,
   "id": "d7845c64",
   "metadata": {},
   "outputs": [
    {
     "data": {
      "text/html": [
       "<div>\n",
       "<style scoped>\n",
       "    .dataframe tbody tr th:only-of-type {\n",
       "        vertical-align: middle;\n",
       "    }\n",
       "\n",
       "    .dataframe tbody tr th {\n",
       "        vertical-align: top;\n",
       "    }\n",
       "\n",
       "    .dataframe thead th {\n",
       "        text-align: right;\n",
       "    }\n",
       "</style>\n",
       "<table border=\"1\" class=\"dataframe\">\n",
       "  <thead>\n",
       "    <tr style=\"text-align: right;\">\n",
       "      <th></th>\n",
       "      <th>Open</th>\n",
       "      <th>Close</th>\n",
       "      <th>Return</th>\n",
       "      <th>Baseline</th>\n",
       "      <th>Base_Peak</th>\n",
       "      <th>Base_DD</th>\n",
       "      <th>SMA</th>\n",
       "      <th>Buy</th>\n",
       "      <th>Updated_Return</th>\n",
       "    </tr>\n",
       "    <tr>\n",
       "      <th>Date</th>\n",
       "      <th></th>\n",
       "      <th></th>\n",
       "      <th></th>\n",
       "      <th></th>\n",
       "      <th></th>\n",
       "      <th></th>\n",
       "      <th></th>\n",
       "      <th></th>\n",
       "      <th></th>\n",
       "    </tr>\n",
       "  </thead>\n",
       "  <tbody>\n",
       "    <tr>\n",
       "      <th>2005-01-04</th>\n",
       "      <td>1202.07996</td>\n",
       "      <td>1188.05005</td>\n",
       "      <td>0.98833</td>\n",
       "      <td>9883.28641</td>\n",
       "      <td>9883.28641</td>\n",
       "      <td>0.00000</td>\n",
       "      <td>NaN</td>\n",
       "      <td>0</td>\n",
       "      <td>1.00000</td>\n",
       "    </tr>\n",
       "    <tr>\n",
       "      <th>2005-01-05</th>\n",
       "      <td>1188.05005</td>\n",
       "      <td>1183.73999</td>\n",
       "      <td>0.99637</td>\n",
       "      <td>9847.43140</td>\n",
       "      <td>9883.28641</td>\n",
       "      <td>-35.85501</td>\n",
       "      <td>NaN</td>\n",
       "      <td>0</td>\n",
       "      <td>1.00000</td>\n",
       "    </tr>\n",
       "    <tr>\n",
       "      <th>2005-01-06</th>\n",
       "      <td>1183.73999</td>\n",
       "      <td>1187.89001</td>\n",
       "      <td>1.00351</td>\n",
       "      <td>9881.95510</td>\n",
       "      <td>9883.28641</td>\n",
       "      <td>-1.33131</td>\n",
       "      <td>NaN</td>\n",
       "      <td>0</td>\n",
       "      <td>1.00000</td>\n",
       "    </tr>\n",
       "    <tr>\n",
       "      <th>2005-01-07</th>\n",
       "      <td>1187.89001</td>\n",
       "      <td>1186.18994</td>\n",
       "      <td>0.99857</td>\n",
       "      <td>9867.81233</td>\n",
       "      <td>9883.28641</td>\n",
       "      <td>-15.47407</td>\n",
       "      <td>NaN</td>\n",
       "      <td>0</td>\n",
       "      <td>1.00000</td>\n",
       "    </tr>\n",
       "    <tr>\n",
       "      <th>2005-01-10</th>\n",
       "      <td>1186.18994</td>\n",
       "      <td>1190.25000</td>\n",
       "      <td>1.00342</td>\n",
       "      <td>9901.58761</td>\n",
       "      <td>9901.58761</td>\n",
       "      <td>0.00000</td>\n",
       "      <td>NaN</td>\n",
       "      <td>0</td>\n",
       "      <td>1.00000</td>\n",
       "    </tr>\n",
       "    <tr>\n",
       "      <th>...</th>\n",
       "      <td>...</td>\n",
       "      <td>...</td>\n",
       "      <td>...</td>\n",
       "      <td>...</td>\n",
       "      <td>...</td>\n",
       "      <td>...</td>\n",
       "      <td>...</td>\n",
       "      <td>...</td>\n",
       "      <td>...</td>\n",
       "    </tr>\n",
       "    <tr>\n",
       "      <th>2014-12-24</th>\n",
       "      <td>2083.25000</td>\n",
       "      <td>2081.87988</td>\n",
       "      <td>0.99986</td>\n",
       "      <td>17318.98009</td>\n",
       "      <td>17321.39290</td>\n",
       "      <td>-2.41281</td>\n",
       "      <td>1953.16760</td>\n",
       "      <td>1</td>\n",
       "      <td>0.99986</td>\n",
       "    </tr>\n",
       "    <tr>\n",
       "      <th>2014-12-26</th>\n",
       "      <td>2084.30005</td>\n",
       "      <td>2088.77002</td>\n",
       "      <td>1.00331</td>\n",
       "      <td>17376.29855</td>\n",
       "      <td>17376.29855</td>\n",
       "      <td>0.00000</td>\n",
       "      <td>1954.37975</td>\n",
       "      <td>1</td>\n",
       "      <td>1.00331</td>\n",
       "    </tr>\n",
       "    <tr>\n",
       "      <th>2014-12-29</th>\n",
       "      <td>2087.62988</td>\n",
       "      <td>2090.57007</td>\n",
       "      <td>1.00086</td>\n",
       "      <td>17391.27300</td>\n",
       "      <td>17391.27300</td>\n",
       "      <td>0.00000</td>\n",
       "      <td>1955.62695</td>\n",
       "      <td>1</td>\n",
       "      <td>1.00086</td>\n",
       "    </tr>\n",
       "    <tr>\n",
       "      <th>2014-12-30</th>\n",
       "      <td>2088.48999</td>\n",
       "      <td>2080.35010</td>\n",
       "      <td>0.99511</td>\n",
       "      <td>17306.25394</td>\n",
       "      <td>17391.27300</td>\n",
       "      <td>-85.01906</td>\n",
       "      <td>1956.73455</td>\n",
       "      <td>1</td>\n",
       "      <td>0.99511</td>\n",
       "    </tr>\n",
       "    <tr>\n",
       "      <th>2014-12-31</th>\n",
       "      <td>2082.11011</td>\n",
       "      <td>2058.89990</td>\n",
       "      <td>0.98969</td>\n",
       "      <td>17127.81161</td>\n",
       "      <td>17391.27300</td>\n",
       "      <td>-263.46139</td>\n",
       "      <td>1957.66780</td>\n",
       "      <td>1</td>\n",
       "      <td>0.98969</td>\n",
       "    </tr>\n",
       "  </tbody>\n",
       "</table>\n",
       "<p>2516 rows × 9 columns</p>\n",
       "</div>"
      ],
      "text/plain": [
       "                 Open      Close  Return    Baseline   Base_Peak    Base_DD  \\\n",
       "Date                                                                          \n",
       "2005-01-04 1202.07996 1188.05005 0.98833  9883.28641  9883.28641    0.00000   \n",
       "2005-01-05 1188.05005 1183.73999 0.99637  9847.43140  9883.28641  -35.85501   \n",
       "2005-01-06 1183.73999 1187.89001 1.00351  9881.95510  9883.28641   -1.33131   \n",
       "2005-01-07 1187.89001 1186.18994 0.99857  9867.81233  9883.28641  -15.47407   \n",
       "2005-01-10 1186.18994 1190.25000 1.00342  9901.58761  9901.58761    0.00000   \n",
       "...               ...        ...     ...         ...         ...        ...   \n",
       "2014-12-24 2083.25000 2081.87988 0.99986 17318.98009 17321.39290   -2.41281   \n",
       "2014-12-26 2084.30005 2088.77002 1.00331 17376.29855 17376.29855    0.00000   \n",
       "2014-12-29 2087.62988 2090.57007 1.00086 17391.27300 17391.27300    0.00000   \n",
       "2014-12-30 2088.48999 2080.35010 0.99511 17306.25394 17391.27300  -85.01906   \n",
       "2014-12-31 2082.11011 2058.89990 0.98969 17127.81161 17391.27300 -263.46139   \n",
       "\n",
       "                  SMA  Buy  Updated_Return  \n",
       "Date                                        \n",
       "2005-01-04        NaN    0         1.00000  \n",
       "2005-01-05        NaN    0         1.00000  \n",
       "2005-01-06        NaN    0         1.00000  \n",
       "2005-01-07        NaN    0         1.00000  \n",
       "2005-01-10        NaN    0         1.00000  \n",
       "...               ...  ...             ...  \n",
       "2014-12-24 1953.16760    1         0.99986  \n",
       "2014-12-26 1954.37975    1         1.00331  \n",
       "2014-12-29 1955.62695    1         1.00086  \n",
       "2014-12-30 1956.73455    1         0.99511  \n",
       "2014-12-31 1957.66780    1         0.98969  \n",
       "\n",
       "[2516 rows x 9 columns]"
      ]
     },
     "execution_count": 15,
     "metadata": {},
     "output_type": "execute_result"
    }
   ],
   "source": [
    "stock['Updated_Return'] = np.where(stock['Buy'].shift(1) == 1, stock['Return'], 1.0)\n",
    "#stock.dropna(inplace = True)\n",
    "stock"
   ]
  },
  {
   "cell_type": "markdown",
   "id": "380e7b25",
   "metadata": {},
   "source": [
    "### Now we will actually calculate the Moving Average Strategy"
   ]
  },
  {
   "cell_type": "code",
   "execution_count": 16,
   "id": "09259570",
   "metadata": {},
   "outputs": [
    {
     "data": {
      "text/html": [
       "<div>\n",
       "<style scoped>\n",
       "    .dataframe tbody tr th:only-of-type {\n",
       "        vertical-align: middle;\n",
       "    }\n",
       "\n",
       "    .dataframe tbody tr th {\n",
       "        vertical-align: top;\n",
       "    }\n",
       "\n",
       "    .dataframe thead th {\n",
       "        text-align: right;\n",
       "    }\n",
       "</style>\n",
       "<table border=\"1\" class=\"dataframe\">\n",
       "  <thead>\n",
       "    <tr style=\"text-align: right;\">\n",
       "      <th></th>\n",
       "      <th>Open</th>\n",
       "      <th>Close</th>\n",
       "      <th>Return</th>\n",
       "      <th>Baseline</th>\n",
       "      <th>Base_Peak</th>\n",
       "      <th>Base_DD</th>\n",
       "      <th>SMA</th>\n",
       "      <th>Buy</th>\n",
       "      <th>Updated_Return</th>\n",
       "      <th>SMA_Strat</th>\n",
       "    </tr>\n",
       "    <tr>\n",
       "      <th>Date</th>\n",
       "      <th></th>\n",
       "      <th></th>\n",
       "      <th></th>\n",
       "      <th></th>\n",
       "      <th></th>\n",
       "      <th></th>\n",
       "      <th></th>\n",
       "      <th></th>\n",
       "      <th></th>\n",
       "      <th></th>\n",
       "    </tr>\n",
       "  </thead>\n",
       "  <tbody>\n",
       "    <tr>\n",
       "      <th>2014-12-24</th>\n",
       "      <td>2083.25000</td>\n",
       "      <td>2081.87988</td>\n",
       "      <td>0.99986</td>\n",
       "      <td>17318.98009</td>\n",
       "      <td>17321.39290</td>\n",
       "      <td>-2.41281</td>\n",
       "      <td>1953.16760</td>\n",
       "      <td>1</td>\n",
       "      <td>0.99986</td>\n",
       "      <td>16956.88778</td>\n",
       "    </tr>\n",
       "    <tr>\n",
       "      <th>2014-12-26</th>\n",
       "      <td>2084.30005</td>\n",
       "      <td>2088.77002</td>\n",
       "      <td>1.00331</td>\n",
       "      <td>17376.29855</td>\n",
       "      <td>17376.29855</td>\n",
       "      <td>0.00000</td>\n",
       "      <td>1954.37975</td>\n",
       "      <td>1</td>\n",
       "      <td>1.00331</td>\n",
       "      <td>17013.00787</td>\n",
       "    </tr>\n",
       "    <tr>\n",
       "      <th>2014-12-29</th>\n",
       "      <td>2087.62988</td>\n",
       "      <td>2090.57007</td>\n",
       "      <td>1.00086</td>\n",
       "      <td>17391.27300</td>\n",
       "      <td>17391.27300</td>\n",
       "      <td>0.00000</td>\n",
       "      <td>1955.62695</td>\n",
       "      <td>1</td>\n",
       "      <td>1.00086</td>\n",
       "      <td>17027.66924</td>\n",
       "    </tr>\n",
       "    <tr>\n",
       "      <th>2014-12-30</th>\n",
       "      <td>2088.48999</td>\n",
       "      <td>2080.35010</td>\n",
       "      <td>0.99511</td>\n",
       "      <td>17306.25394</td>\n",
       "      <td>17391.27300</td>\n",
       "      <td>-85.01906</td>\n",
       "      <td>1956.73455</td>\n",
       "      <td>1</td>\n",
       "      <td>0.99511</td>\n",
       "      <td>16944.42770</td>\n",
       "    </tr>\n",
       "    <tr>\n",
       "      <th>2014-12-31</th>\n",
       "      <td>2082.11011</td>\n",
       "      <td>2058.89990</td>\n",
       "      <td>0.98969</td>\n",
       "      <td>17127.81161</td>\n",
       "      <td>17391.27300</td>\n",
       "      <td>-263.46139</td>\n",
       "      <td>1957.66780</td>\n",
       "      <td>1</td>\n",
       "      <td>0.98969</td>\n",
       "      <td>16769.71610</td>\n",
       "    </tr>\n",
       "  </tbody>\n",
       "</table>\n",
       "</div>"
      ],
      "text/plain": [
       "                 Open      Close  Return    Baseline   Base_Peak    Base_DD  \\\n",
       "Date                                                                          \n",
       "2014-12-24 2083.25000 2081.87988 0.99986 17318.98009 17321.39290   -2.41281   \n",
       "2014-12-26 2084.30005 2088.77002 1.00331 17376.29855 17376.29855    0.00000   \n",
       "2014-12-29 2087.62988 2090.57007 1.00086 17391.27300 17391.27300    0.00000   \n",
       "2014-12-30 2088.48999 2080.35010 0.99511 17306.25394 17391.27300  -85.01906   \n",
       "2014-12-31 2082.11011 2058.89990 0.98969 17127.81161 17391.27300 -263.46139   \n",
       "\n",
       "                  SMA  Buy  Updated_Return   SMA_Strat  \n",
       "Date                                                    \n",
       "2014-12-24 1953.16760    1         0.99986 16956.88778  \n",
       "2014-12-26 1954.37975    1         1.00331 17013.00787  \n",
       "2014-12-29 1955.62695    1         1.00086 17027.66924  \n",
       "2014-12-30 1956.73455    1         0.99511 16944.42770  \n",
       "2014-12-31 1957.66780    1         0.98969 16769.71610  "
      ]
     },
     "execution_count": 16,
     "metadata": {},
     "output_type": "execute_result"
    }
   ],
   "source": [
    "stock['SMA_Strat'] = stock['Updated_Return'].cumprod() * start_balance\n",
    "stock.tail()"
   ]
  },
  {
   "cell_type": "code",
   "execution_count": 17,
   "id": "e50f30b0",
   "metadata": {},
   "outputs": [
    {
     "data": {
      "image/png": "[encoded data removed]",
      "text/plain": [
       "<Figure size 864x432 with 1 Axes>"
      ]
     },
     "metadata": {
      "needs_background": "light"
     },
     "output_type": "display_data"
    }
   ],
   "source": [
    "plt.figure(figsize=(12, 6))\n",
    "plt.plot(stock['Baseline'], label = 'Baseline')\n",
    "plt.plot(stock['SMA_Strat'], label = 'Moving Averge Strategy')\n",
    "plt.plot(stock['SMA'], label = 'Simple Moving Average')\n",
    "plt.legend()\n",
    "plt.show()"
   ]
  },
  {
   "cell_type": "markdown",
   "id": "5c2b84bd",
   "metadata": {},
   "source": [
    "> Hmmm so following the Moving Average Strategy, the end result was a lot worse, while we still came up positive from what we started with, the **baseline** (if we just help the entire time) was `39649.443`   \n",
    "> while the **Moving Average Strategy** gave us only `16828.002`"
   ]
  },
  {
   "cell_type": "markdown",
   "id": "fe64faee",
   "metadata": {},
   "source": [
    "### Time to check the metrics though and compare the two! \n",
    "Recap of the baseline metrics"
   ]
  },
  {
   "cell_type": "code",
   "execution_count": 18,
   "id": "50ac2175",
   "metadata": {},
   "outputs": [],
   "source": [
    "# getting the drawdown of the SMA_Strat\n",
    "stock['MA_Peak'] = stock['SMA_Strat'].cummax()\n",
    "stock['MA_DD'] = stock['SMA_Strat'] - stock['MA_Peak']"
   ]
  },
  {
   "cell_type": "code",
   "execution_count": 19,
   "id": "69b3786e",
   "metadata": {
    "scrolled": true
   },
   "outputs": [
    {
     "name": "stdout",
     "output_type": "stream",
     "text": [
      "Baseline\n",
      "Return Metric: 73.301%\n",
      "Compound Annual Growth Rate 5.653\n",
      "Biggest Drawdown was: -56.775%\n",
      "---------------------------------------------\n",
      "Moving Average Strategy\n",
      "Return Metric: 67.697%\n",
      "Compound Annual Growth Rate 5.307\n",
      "Biggest Drawdown was: -21.307%\n"
     ]
    }
   ],
   "source": [
    "ma_return_metric = round((stock['SMA_Strat'][-1] / stock['SMA_Strat'][0] - 1) * 100,3)\n",
    "ma_cagr_metric = round((((stock['SMA_Strat'][-1] / stock['SMA_Strat'][0]) ** (1/years)) - 1) * 100, 3)\n",
    "ma_dd_metric = round(((stock['MA_DD'] / stock['MA_Peak']).min() * 100), 3)\n",
    "\n",
    "print('Baseline')\n",
    "print(f'Return Metric: {return_metric}%')\n",
    "print('Compound Annual Growth Rate', cagr_metric)\n",
    "print(f'Biggest Drawdown was: {dd_metric}%')\n",
    "print('---' * 15)\n",
    "print('Moving Average Strategy')\n",
    "print(f'Return Metric: {ma_return_metric}%')\n",
    "print('Compound Annual Growth Rate', ma_cagr_metric)\n",
    "print(f'Biggest Drawdown was: {ma_dd_metric}%')"
   ]
  }
 ],
 "metadata": {
  "kernelspec": {
   "display_name": "Python 3 (ipykernel)",
   "language": "python",
   "name": "python3"
  },
  "language_info": {
   "codemirror_mode": {
    "name": "ipython",
    "version": 3
   },
   "file_extension": ".py",
   "mimetype": "text/x-python",
   "name": "python",
   "nbconvert_exporter": "python",
   "pygments_lexer": "ipython3",
   "version": "3.9.6"
  }
 },
 "nbformat": 4,
 "nbformat_minor": 5
}
